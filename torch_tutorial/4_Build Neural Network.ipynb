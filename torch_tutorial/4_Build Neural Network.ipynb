{
 "cells": [
  {
   "cell_type": "markdown",
   "metadata": {},
   "source": [
    "# 신경망 모델 구성\n",
    "신경망의 경우 데이터에 대한 연산을 수행하는 layer, module로 구성.<br>\n",
    "torch.nn 의 경우 신경망을 구성하는 데 필요한 모든 요소를 제공.\n",
    "- PyTorch의 모든 모듈은 nn.Module의 하위 클래스, 신경망은 다른 모듈로 구성된 모듈.\n",
    "    - 이런 중첩구조의 경우 복잡한 아키텍쳐를 쉽게 구축, 관리 가능"
   ]
  },
  {
   "cell_type": "code",
   "execution_count": 1,
   "metadata": {},
   "outputs": [],
   "source": [
    "import os\n",
    "import torch\n",
    "from torch import nn\n",
    "from torch.utils.data import DataLoader\n",
    "from torchvision import datasets, transforms"
   ]
  },
  {
   "cell_type": "code",
   "execution_count": 2,
   "metadata": {},
   "outputs": [
    {
     "name": "stdout",
     "output_type": "stream",
     "text": [
      "Using cpu device\n"
     ]
    }
   ],
   "source": [
    "device = (\n",
    "    \"cuda\"\n",
    "    if torch.cuda.is_available()\n",
    "    else \"mps\"\n",
    "    if torch.backends.mps.is_available()\n",
    "    else \"cpu\"\n",
    ")\n",
    "print(f\"Using {device} device\")"
   ]
  },
  {
   "cell_type": "markdown",
   "metadata": {},
   "source": [
    "## 클래스 정의\n",
    "- 신경망 모델을 nn.Module의 하위클래스로 정의. __ init __에서 신경망 계층 초기화.\n",
    "- nn.Module을 상속받은 forward 메소드에 입력데이터에 대한 연산을 구현"
   ]
  },
  {
   "cell_type": "code",
   "execution_count": 5,
   "metadata": {},
   "outputs": [],
   "source": [
    "class NeuralNetwork(nn.Module):\n",
    "    def __init__(self):\n",
    "        super().__init__() # 부모클래스 nn.Module의 초기화 매서드 호출\n",
    "        self.flatten = nn.Flatten() # 이미지 데이터 평탄화하는 nn.Flatten호출 self.flatten에 할당.\n",
    "\n",
    "        # 신경망 주요부분 정의\n",
    "        self.linear_relu_stack = nn.Sequential( # nn.Sequential을 사용, 여러 layer를 쌓음 \n",
    "            nn.Linear(28*28, 512), # 입력크기 28*28(이미지 크기), 출력크기 512인 선형 layer\n",
    "            nn.ReLU(), # 활성화 함수 정의\n",
    "            nn.Linear(512, 512), # 입력크기 512, 출력크기 512인 layer\n",
    "            nn.ReLU(),\n",
    "            nn.Linear(512, 10), # 입력크기 512, 출력크기 10인 layer\n",
    "                                # 이때 10은 출력 클래스의 수\n",
    "        )\n",
    "\n",
    "    def forward(self, x): # 순전파 정의 메서드\n",
    "        x = self.flatten(x) # 입력데이터 x를 평탄화\n",
    "        logits = self.linear_relu_stack(x) # 평탄화 된 데이터를 앞의 신경망 스택에 전달, 출력값(logits)을 얻음\n",
    "        return logits # 출력값 반환\n",
    "    \n",
    "\n",
    "# 정의 된 신경망은 이미지를 입력받아 layer, 활성화 함수 통과 후 최종 10개 클래스에 대한 logit 출력"
   ]
  },
  {
   "cell_type": "markdown",
   "metadata": {},
   "source": [
    "NeuralNetwork의 인스턴스 생성, 이를 device로 이동후 구조를 출력"
   ]
  },
  {
   "cell_type": "code",
   "execution_count": 6,
   "metadata": {},
   "outputs": [
    {
     "name": "stdout",
     "output_type": "stream",
     "text": [
      "NeuralNetwork(\n",
      "  (flatten): Flatten(start_dim=1, end_dim=-1)\n",
      "  (linear_relu_stack): Sequential(\n",
      "    (0): Linear(in_features=784, out_features=512, bias=True)\n",
      "    (1): ReLU()\n",
      "    (2): Linear(in_features=512, out_features=512, bias=True)\n",
      "    (3): ReLU()\n",
      "    (4): Linear(in_features=512, out_features=10, bias=True)\n",
      "  )\n",
      ")\n"
     ]
    }
   ],
   "source": [
    "model = NeuralNetwork().to(device)\n",
    "print(model)"
   ]
  },
  {
   "cell_type": "code",
   "execution_count": null,
   "metadata": {},
   "outputs": [],
   "source": []
  }
 ],
 "metadata": {
  "kernelspec": {
   "display_name": "Python 3",
   "language": "python",
   "name": "python3"
  },
  "language_info": {
   "codemirror_mode": {
    "name": "ipython",
    "version": 3
   },
   "file_extension": ".py",
   "mimetype": "text/x-python",
   "name": "python",
   "nbconvert_exporter": "python",
   "pygments_lexer": "ipython3",
   "version": "3.8.1"
  }
 },
 "nbformat": 4,
 "nbformat_minor": 2
}
