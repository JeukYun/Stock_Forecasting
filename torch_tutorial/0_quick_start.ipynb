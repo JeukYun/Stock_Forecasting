{
 "cells": [
  {
   "cell_type": "markdown",
   "metadata": {},
   "source": [
    "Pytorch 튜토리얼\n",
    "- https://tutorials.pytorch.kr/beginner/basics/quickstart_tutorial.html"
   ]
  },
  {
   "cell_type": "markdown",
   "metadata": {},
   "source": [
    "Pytorch의 데이터 작업을 위한 기본요소 두가지\n",
    "1. torch.utils.data.DataLoader : Dataset을 순회 가능한 객체(iterable)로 감싼다. \n",
    "2. torch.utils.data.Dataset : 샘플과 정답(label)저장"
   ]
  },
  {
   "cell_type": "code",
   "execution_count": 1,
   "metadata": {},
   "outputs": [],
   "source": [
    "import torch\n",
    "from torch import nn\n",
    "from torch.utils.data import DataLoader\n",
    "\n",
    "#  TorchText, TorchVision ,TorchAudio 의 도메인 특화 라이브러리를 데이터셋과 함께 제공\n",
    "from torchvision import datasets\n",
    "from torchvision.transforms import ToTensor"
   ]
  },
  {
   "cell_type": "markdown",
   "metadata": {},
   "source": [
    "데이터 셋 다운로드\n",
    "- FashionMNIST 데이터셋 : 셔츠, 운동화, 샌들 등 작은 이미지들의 모음, 28*28픽셀 70,000개로 구성"
   ]
  },
  {
   "cell_type": "code",
   "execution_count": 2,
   "metadata": {},
   "outputs": [],
   "source": [
    "# 공개 데이터셋에서 학습 데이터를 내려받습니다.\n",
    "training_data = datasets.FashionMNIST(\n",
    "    root=\"data\",\n",
    "    train=True,\n",
    "    download=True,\n",
    "    transform=ToTensor(),\n",
    ")\n",
    "\n",
    "# 공개 데이터셋에서 테스트 데이터를 내려받습니다.\n",
    "test_data = datasets.FashionMNIST(\n",
    "    root=\"data\",\n",
    "    train=False,\n",
    "    download=True,\n",
    "    transform=ToTensor(),\n",
    ")"
   ]
  },
  {
   "cell_type": "code",
   "execution_count": 3,
   "metadata": {},
   "outputs": [
    {
     "data": {
      "text/plain": [
       "Dataset FashionMNIST\n",
       "    Number of datapoints: 60000\n",
       "    Root location: data\n",
       "    Split: Train\n",
       "    StandardTransform\n",
       "Transform: ToTensor()"
      ]
     },
     "metadata": {},
     "output_type": "display_data"
    },
    {
     "data": {
      "text/plain": [
       "Dataset FashionMNIST\n",
       "    Number of datapoints: 10000\n",
       "    Root location: data\n",
       "    Split: Test\n",
       "    StandardTransform\n",
       "Transform: ToTensor()"
      ]
     },
     "metadata": {},
     "output_type": "display_data"
    }
   ],
   "source": [
    "display(training_data,test_data)"
   ]
  },
  {
   "cell_type": "markdown",
   "metadata": {},
   "source": [
    "Dataset을 DataLoader의 인자로 전달\n",
    "- 데이터셋을 iterable객체로 변환\n",
    "    - 자동화 batch, sampling, shuffle, multiprocess data loading 지원"
   ]
  },
  {
   "cell_type": "code",
   "execution_count": 4,
   "metadata": {},
   "outputs": [
    {
     "name": "stdout",
     "output_type": "stream",
     "text": [
      "Shape of X [N, C, H, W]: torch.Size([64, 1, 28, 28])\n",
      "Shape of y: torch.Size([64]) torch.int64\n"
     ]
    }
   ],
   "source": [
    "batch_size = 64\n",
    "# 배치크기 64로 정의\n",
    "# 데이터로더 객체의 각 요소는 64개의 feature와 label을 묶음(batch)로 반환\n",
    "\n",
    "# 데이터로더를 생성합니다.\n",
    "train_dataloader = DataLoader(training_data, batch_size=batch_size)\n",
    "test_dataloader = DataLoader(test_data, batch_size=batch_size)\n",
    "\n",
    "for X, y in test_dataloader:\n",
    "    print(f\"Shape of X [N, C, H, W]: {X.shape}\")\n",
    "    print(f\"Shape of y: {y.shape} {y.dtype}\")\n",
    "    break"
   ]
  },
  {
   "cell_type": "markdown",
   "metadata": {},
   "source": [
    "모델만들기\n",
    "- 신경망 모델은 nn.Module을 상속받는 class 생성하여 정의\n",
    "- __init__ 함수에서 신경망 layer를 정의\n",
    "- forward 함수에서 신경망에 데이터를 어떻게 전달할지 지정\n",
    "- 가능한 경우 GPU, MPS로 신경망을 이동, 연산을 가속화"
   ]
  },
  {
   "cell_type": "code",
   "execution_count": 5,
   "metadata": {},
   "outputs": [
    {
     "name": "stdout",
     "output_type": "stream",
     "text": [
      "Using cpu device\n"
     ]
    }
   ],
   "source": [
    "# device 확인\n",
    "device = (\n",
    "    \"cuda\"\n",
    "    if torch.cuda.is_available()\n",
    "    else \"mps\"\n",
    "    if torch.backends.mps.is_available()\n",
    "    else \"cpu\"\n",
    ")\n",
    "print(f\"Using {device} device\")"
   ]
  },
  {
   "cell_type": "code",
   "execution_count": 6,
   "metadata": {},
   "outputs": [
    {
     "name": "stdout",
     "output_type": "stream",
     "text": [
      "NeuralNetwork(\n",
      "  (flatten): Flatten(start_dim=1, end_dim=-1)\n",
      "  (linear_relu_stack): Sequential(\n",
      "    (0): Linear(in_features=784, out_features=512, bias=True)\n",
      "    (1): ReLU()\n",
      "    (2): Linear(in_features=512, out_features=512, bias=True)\n",
      "    (3): ReLU()\n",
      "    (4): Linear(in_features=512, out_features=10, bias=True)\n",
      "  )\n",
      ")\n"
     ]
    }
   ],
   "source": [
    "# 모델 정의\n",
    "class NeuralNetwork(nn.Module):\n",
    "    def __init__(self):\n",
    "        super().__init__()\n",
    "        self.flatten = nn.Flatten() # 입력데이터 평탄화\n",
    "                                    # ex) 이미지데이터의 경우 2차원 픽셀값의 행렬형태\n",
    "                                    #     -> 이러한 2차원 구조를 1차원 구조로 변환\n",
    "        self.linear_relu_stack = nn.Sequential(\n",
    "            nn.Linear(28*28, 512), # 첫번째 레이어 정의(입력 28*28 / 출력 512)\n",
    "            nn.ReLU(), # 활성화 함수\n",
    "            nn.Linear(512, 512), # 두번째 레이어 정의\n",
    "            nn.ReLU(),\n",
    "            nn.Linear(512, 10) # 최종 레이어 정의 (10개의 출력을 갖는다.)\n",
    "        )\n",
    "\n",
    "    def forward(self, x):\n",
    "        x = self.flatten(x)\n",
    "        logits = self.linear_relu_stack(x) # 앞서 정의한 선형레이어들을 통해 전파\n",
    "        return logits\n",
    "\n",
    "model = NeuralNetwork().to(device) # NeuralNetwork의 인스턴스를 생성, device로 이동\n",
    "print(model) # 구조 출력"
   ]
  },
  {
   "cell_type": "markdown",
   "metadata": {},
   "source": [
    "모델 매개변수 최적화\n",
    "- 모델 학습 시 손실함수, 옵티마이저가 필요"
   ]
  },
  {
   "cell_type": "code",
   "execution_count": 9,
   "metadata": {},
   "outputs": [],
   "source": [
    "loss_fn = nn.CrossEntropyLoss()\n",
    "optimizer = torch.optim.SGD(model.parameters(), lr=1e-3)"
   ]
  },
  {
   "cell_type": "markdown",
   "metadata": {},
   "source": [
    "각 training loop에서 배치모델은 학습 데이터셋에 대한 예측 수행, 예측 오류를 역전파하여 모델의 매개변수 조정."
   ]
  },
  {
   "cell_type": "code",
   "execution_count": 10,
   "metadata": {},
   "outputs": [],
   "source": [
    "def train(dataloader, model, loss_fn, optimizer):\n",
    "    size = len(dataloader.dataset)\n",
    "    for batch, (X, y) in enumerate(dataloader):\n",
    "        X, y = X.to(device), y.to(device)\n",
    "\n",
    "        # 예측 오류 계산\n",
    "        pred = model(X) # 모델엥 입력데이터 전달, 예측수행\n",
    "        loss = loss_fn(pred, y) # 예측값, 실제값 간의 손실 계산\n",
    "\n",
    "        # 역전파\n",
    "        optimizer.zero_grad() # 이전에 계산된 기울기 초기화\n",
    "        loss.backward() # 손실에 대한 역전파 수행\n",
    "        optimizer.step() # optimizer 사용, 모델 매개변수 업데이트\n",
    "\n",
    "        if batch % 100 == 0: # 100번의 배치마다 현재 손실, 진행상태 출력\n",
    "            loss, current = loss.item(), (batch + 1) * len(X)\n",
    "            print(f\"loss: {loss:>7f}  [{current:>5d}/{size:>5d}]\")"
   ]
  },
  {
   "cell_type": "markdown",
   "metadata": {},
   "source": [
    "모델이 학습하고 있는지 확인하기 위해 테스트 데이터셋으로 모델 성능 확인"
   ]
  },
  {
   "cell_type": "code",
   "execution_count": 11,
   "metadata": {},
   "outputs": [],
   "source": [
    "def test(dataloader, model, loss_fn):\n",
    "    size = len(dataloader.dataset)\n",
    "    num_batches = len(dataloader)\n",
    "    model.eval() # 모델을 평가모드로 설정, 드롭아웃과 같은 계층이 활성화되지 않도록..\n",
    "    test_loss, correct = 0, 0 # 테스트 손실, 정확한 예측 수 초기화\n",
    "    with torch.no_grad(): # 테스트중에는 기울기를 계산하지 않음\n",
    "        for X, y in dataloader:\n",
    "            X, y = X.to(device), y.to(device)\n",
    "            pred = model(X) # 모델에 입력데이터를 전달, 예측 수행\n",
    "\n",
    "            # 값 누적\n",
    "            test_loss += loss_fn(pred, y).item() \n",
    "            correct += (pred.argmax(1) == y).type(torch.float).sum().item()\n",
    "    test_loss /= num_batches # 평균손실 계산\n",
    "    correct /= size # 정확도 계산\n",
    "    print(f\"Test Error: \\n Accuracy: {(100*correct):>0.1f}%, Avg loss: {test_loss:>8f} \\n\")"
   ]
  },
  {
   "cell_type": "markdown",
   "metadata": {},
   "source": [
    "학습단계는 여러번의 epochs(반복단계)를 거쳐서 수행. 각 epoch 에서 모델은 더 나은 예측을 하기위해 매개변수를 학습. 각 epoch마다 모델의 정확도, 손실을 출력\n",
    "- 아래를 통해 epoch마다 정확도, 손실의 증감을 확인"
   ]
  },
  {
   "cell_type": "code",
   "execution_count": 12,
   "metadata": {},
   "outputs": [
    {
     "name": "stdout",
     "output_type": "stream",
     "text": [
      "Epoch 1\n",
      "-------------------------------\n",
      "loss: 2.319786  [   64/60000]\n",
      "loss: 2.301068  [ 6464/60000]\n",
      "loss: 2.283386  [12864/60000]\n",
      "loss: 2.272886  [19264/60000]\n",
      "loss: 2.252284  [25664/60000]\n",
      "loss: 2.225527  [32064/60000]\n",
      "loss: 2.230992  [38464/60000]\n",
      "loss: 2.197194  [44864/60000]\n",
      "loss: 2.196517  [51264/60000]\n",
      "loss: 2.159256  [57664/60000]\n",
      "Test Error: \n",
      " Accuracy: 45.1%, Avg loss: 2.158753 \n",
      "\n",
      "Epoch 2\n",
      "-------------------------------\n",
      "loss: 2.173347  [   64/60000]\n",
      "loss: 2.159907  [ 6464/60000]\n",
      "loss: 2.101860  [12864/60000]\n",
      "loss: 2.119093  [19264/60000]\n",
      "loss: 2.059775  [25664/60000]\n",
      "loss: 2.004384  [32064/60000]\n",
      "loss: 2.032196  [38464/60000]\n",
      "loss: 1.952038  [44864/60000]\n",
      "loss: 1.957828  [51264/60000]\n",
      "loss: 1.882748  [57664/60000]\n",
      "Test Error: \n",
      " Accuracy: 52.8%, Avg loss: 1.887966 \n",
      "\n",
      "Epoch 3\n",
      "-------------------------------\n",
      "loss: 1.918993  [   64/60000]\n",
      "loss: 1.885367  [ 6464/60000]\n",
      "loss: 1.773024  [12864/60000]\n",
      "loss: 1.821536  [19264/60000]\n",
      "loss: 1.699727  [25664/60000]\n",
      "loss: 1.661464  [32064/60000]\n",
      "loss: 1.680129  [38464/60000]\n",
      "loss: 1.585885  [44864/60000]\n",
      "loss: 1.607993  [51264/60000]\n",
      "loss: 1.502734  [57664/60000]\n",
      "Test Error: \n",
      " Accuracy: 60.7%, Avg loss: 1.529941 \n",
      "\n",
      "Epoch 4\n",
      "-------------------------------\n",
      "loss: 1.589565  [   64/60000]\n",
      "loss: 1.556410  [ 6464/60000]\n",
      "loss: 1.414957  [12864/60000]\n",
      "loss: 1.487664  [19264/60000]\n",
      "loss: 1.363703  [25664/60000]\n",
      "loss: 1.370171  [32064/60000]\n",
      "loss: 1.371889  [38464/60000]\n",
      "loss: 1.304752  [44864/60000]\n",
      "loss: 1.336432  [51264/60000]\n",
      "loss: 1.233705  [57664/60000]\n",
      "Test Error: \n",
      " Accuracy: 63.3%, Avg loss: 1.267448 \n",
      "\n",
      "Epoch 5\n",
      "-------------------------------\n",
      "loss: 1.339069  [   64/60000]\n",
      "loss: 1.322185  [ 6464/60000]\n",
      "loss: 1.164851  [12864/60000]\n",
      "loss: 1.263561  [19264/60000]\n",
      "loss: 1.138674  [25664/60000]\n",
      "loss: 1.174269  [32064/60000]\n",
      "loss: 1.176575  [38464/60000]\n",
      "loss: 1.123892  [44864/60000]\n",
      "loss: 1.163748  [51264/60000]\n",
      "loss: 1.072342  [57664/60000]\n",
      "Test Error: \n",
      " Accuracy: 64.7%, Avg loss: 1.100463 \n",
      "\n",
      "Done!\n"
     ]
    }
   ],
   "source": [
    "epochs = 5\n",
    "for t in range(epochs):\n",
    "    print(f\"Epoch {t+1}\\n-------------------------------\")\n",
    "    train(train_dataloader, model, loss_fn, optimizer)\n",
    "    test(test_dataloader, model, loss_fn)\n",
    "print(\"Done!\")"
   ]
  },
  {
   "cell_type": "markdown",
   "metadata": {},
   "source": [
    "모델 저장"
   ]
  },
  {
   "cell_type": "code",
   "execution_count": 13,
   "metadata": {},
   "outputs": [],
   "source": [
    "torch.save(model.state_dict(), \"model.pth\")"
   ]
  },
  {
   "cell_type": "markdown",
   "metadata": {},
   "source": [
    "모델 불러오기"
   ]
  },
  {
   "cell_type": "code",
   "execution_count": 14,
   "metadata": {},
   "outputs": [
    {
     "data": {
      "text/plain": [
       "<All keys matched successfully>"
      ]
     },
     "execution_count": 14,
     "metadata": {},
     "output_type": "execute_result"
    }
   ],
   "source": [
    "model = NeuralNetwork().to(device)\n",
    "model.load_state_dict(torch.load(\"model.pth\"))"
   ]
  },
  {
   "cell_type": "code",
   "execution_count": 15,
   "metadata": {},
   "outputs": [
    {
     "name": "stdout",
     "output_type": "stream",
     "text": [
      "Predicted: \"Ankle boot\", Actual: \"Ankle boot\"\n"
     ]
    }
   ],
   "source": [
    "classes = [\n",
    "    \"T-shirt/top\",\n",
    "    \"Trouser\",\n",
    "    \"Pullover\",\n",
    "    \"Dress\",\n",
    "    \"Coat\",\n",
    "    \"Sandal\",\n",
    "    \"Shirt\",\n",
    "    \"Sneaker\",\n",
    "    \"Bag\",\n",
    "    \"Ankle boot\",\n",
    "]\n",
    "\n",
    "model.eval()\n",
    "x, y = test_data[0][0], test_data[0][1] # test_data에서 첫 번째 샘플의 입력, 레이블을 가져옴\n",
    "with torch.no_grad():\n",
    "    x = x.to(device)\n",
    "    pred = model(x)\n",
    "    predicted, actual = classes[pred[0].argmax(0)], classes[y] \n",
    "    # armax로 예측된 클래스의 인덱스를 구함\n",
    "    # 해당 인덱스에 해당하는 클래스 이름을 classes에서 가져와 예측값을 출력\n",
    " \n",
    "    print(f'Predicted: \"{predicted}\", Actual: \"{actual}\"')"
   ]
  }
 ],
 "metadata": {
  "kernelspec": {
   "display_name": "base",
   "language": "python",
   "name": "python3"
  },
  "language_info": {
   "codemirror_mode": {
    "name": "ipython",
    "version": 3
   },
   "file_extension": ".py",
   "mimetype": "text/x-python",
   "name": "python",
   "nbconvert_exporter": "python",
   "pygments_lexer": "ipython3",
   "version": "3.8.1"
  }
 },
 "nbformat": 4,
 "nbformat_minor": 2
}
