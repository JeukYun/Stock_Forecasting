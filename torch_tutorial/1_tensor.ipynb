{
 "cells": [
  {
   "cell_type": "markdown",
   "metadata": {},
   "source": [
    "# 텐서(tensor)\n",
    "tensor : 배열(array), 행렬(matrix)과 매우 유사한 자료구조. pyTorch에서는 텐서를 사용하여 모델의 입/출력, 모델의 매개변수들을 부호화(encode)<br>\n",
    "실제로 tensor와 NumPy의 배열(array)은 종종 동일한 메모리를 공유할 수 있어 데이터를 복사할 필요가 없음.<br>\n",
    "tensor는 또한 자동미분에 최적화"
   ]
  },
  {
   "cell_type": "code",
   "execution_count": 1,
   "metadata": {},
   "outputs": [],
   "source": [
    "import torch\n",
    "import numpy as np"
   ]
  },
  {
   "cell_type": "markdown",
   "metadata": {},
   "source": [
    "## tensor초기화\n",
    "- tensor의 경우 여러 방법으로 초기화 가능"
   ]
  },
  {
   "cell_type": "code",
   "execution_count": 2,
   "metadata": {},
   "outputs": [],
   "source": [
    "# 1. 데이터로부터 직접 생성\n",
    "\n",
    "data = [[1, 2], [3, 4]]\n",
    "x_data = torch.tensor(data)"
   ]
  },
  {
   "cell_type": "code",
   "execution_count": 3,
   "metadata": {},
   "outputs": [],
   "source": [
    "# 2. Numpy 배열로부터 생성하기\n",
    "\n",
    "np_array = np.array(data)\n",
    "x_np = torch.from_numpy(np_array)"
   ]
  },
  {
   "cell_type": "code",
   "execution_count": 4,
   "metadata": {},
   "outputs": [
    {
     "name": "stdout",
     "output_type": "stream",
     "text": [
      "Ones Tensor: \n",
      " tensor([[1, 1],\n",
      "        [1, 1]]) \n",
      "\n",
      "Random Tensor: \n",
      " tensor([[0.7650, 0.0220],\n",
      "        [0.1220, 0.5971]]) \n",
      "\n"
     ]
    }
   ],
   "source": [
    "# 3. 다른 tensor로 부터 생성하기\n",
    "#    명시적으로 재정의하지 않는경우 인자로 주어진 텐서의 속성(모양,자료형)을 유지\n",
    "\n",
    "x_ones = torch.ones_like(x_data) # x_data의 속성을 유지합니다.\n",
    "print(f\"Ones Tensor: \\n {x_ones} \\n\")\n",
    "\n",
    "x_rand = torch.rand_like(x_data, dtype=torch.float) # x_data의 속성을 변환.\n",
    "print(f\"Random Tensor: \\n {x_rand} \\n\")"
   ]
  },
  {
   "cell_type": "code",
   "execution_count": 5,
   "metadata": {},
   "outputs": [
    {
     "name": "stdout",
     "output_type": "stream",
     "text": [
      "Random Tensor: \n",
      " tensor([[0.7492, 0.5974, 0.1893],\n",
      "        [0.8018, 0.8045, 0.7267]]) \n",
      "\n",
      "Ones Tensor: \n",
      " tensor([[1., 1., 1.],\n",
      "        [1., 1., 1.]]) \n",
      "\n",
      "Zeros Tensor: \n",
      " tensor([[0., 0., 0.],\n",
      "        [0., 0., 0.]])\n"
     ]
    }
   ],
   "source": [
    "# 4. 무작위 또는 상수값 사용\n",
    "\n",
    "shape = (2, 3, )\n",
    "rand_tensor = torch.rand(shape) # 랜덤값 \n",
    "ones_tensor = torch.ones(shape) # 1값\n",
    "zeros_tensor = torch.zeros(shape) # 0값\n",
    "\n",
    "print(f\"Random Tensor: \\n {rand_tensor} \\n\")\n",
    "print(f\"Ones Tensor: \\n {ones_tensor} \\n\")\n",
    "print(f\"Zeros Tensor: \\n {zeros_tensor}\")"
   ]
  },
  {
   "cell_type": "markdown",
   "metadata": {},
   "source": [
    "## tensor의 속성\n",
    "- tensor의 속성은 모양(shape), 자료형(datatype)및 어느 장치에 저장되는지 나타냄"
   ]
  },
  {
   "cell_type": "code",
   "execution_count": 6,
   "metadata": {},
   "outputs": [
    {
     "name": "stdout",
     "output_type": "stream",
     "text": [
      "Shape of tensor: torch.Size([3, 4])\n",
      "Datatype of tensor: torch.float32\n",
      "Device tensor is stored on: cpu\n"
     ]
    }
   ],
   "source": [
    "tensor = torch.rand(3,4)\n",
    "\n",
    "print(f\"Shape of tensor: {tensor.shape}\") # shape\n",
    "print(f\"Datatype of tensor: {tensor.dtype}\") # Dtype\n",
    "print(f\"Device tensor is stored on: {tensor.device}\") # 저장위치"
   ]
  },
  {
   "cell_type": "markdown",
   "metadata": {},
   "source": [
    "## tensor 연산\n",
    "- 전치(transposing), 인덱싱(indexing), 슬라이싱(slicing) 수학계산, 선형대수, 임의샘플링 등 tensor 연산 가능\n",
    "- 기본적으로 tensor는 CPU에 생성, .to 메서드를 사용하면 GPU로 tensor를 명시적으로 이동 가능."
   ]
  },
  {
   "cell_type": "code",
   "execution_count": 8,
   "metadata": {},
   "outputs": [
    {
     "name": "stdout",
     "output_type": "stream",
     "text": [
      "not usable\n"
     ]
    }
   ],
   "source": [
    "# GPU가 존재하면 텐서를 이동.\n",
    "\n",
    "if torch.cuda.is_available():\n",
    "    tensor = tensor.to(\"cuda\")\n",
    "else:\n",
    "    print(\"not usable\") #GPU가 없는경우 출력"
   ]
  },
  {
   "cell_type": "code",
   "execution_count": null,
   "metadata": {},
   "outputs": [],
   "source": []
  }
 ],
 "metadata": {
  "kernelspec": {
   "display_name": "Python 3",
   "language": "python",
   "name": "python3"
  },
  "language_info": {
   "codemirror_mode": {
    "name": "ipython",
    "version": 3
   },
   "file_extension": ".py",
   "mimetype": "text/x-python",
   "name": "python",
   "nbconvert_exporter": "python",
   "pygments_lexer": "ipython3",
   "version": "3.8.1"
  }
 },
 "nbformat": 4,
 "nbformat_minor": 2
}
